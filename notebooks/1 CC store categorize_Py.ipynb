{
 "cells": [
  {
   "cell_type": "markdown",
   "metadata": {},
   "source": [
    "# Categorizing credit card transactions in python"
   ]
  },
  {
   "cell_type": "markdown",
   "metadata": {},
   "source": [
    "## Libraries"
   ]
  },
  {
   "cell_type": "code",
   "execution_count": 1,
   "metadata": {},
   "outputs": [
    {
     "ename": "FileNotFoundError",
     "evalue": "[WinError 2] The system cannot find the file specified: '-- Your directory path here---'",
     "output_type": "error",
     "traceback": [
      "\u001b[1;31m---------------------------------------------------------------------------\u001b[0m",
      "\u001b[1;31mFileNotFoundError\u001b[0m                         Traceback (most recent call last)",
      "\u001b[1;32m~\\AppData\\Local\\Temp/ipykernel_6360/3140592409.py\u001b[0m in \u001b[0;36m<module>\u001b[1;34m\u001b[0m\n\u001b[0;32m      7\u001b[0m \u001b[1;33m\u001b[0m\u001b[0m\n\u001b[0;32m      8\u001b[0m \u001b[1;31m## Setting the working directory\u001b[0m\u001b[1;33m\u001b[0m\u001b[1;33m\u001b[0m\u001b[1;33m\u001b[0m\u001b[0m\n\u001b[1;32m----> 9\u001b[1;33m \u001b[0mos\u001b[0m\u001b[1;33m.\u001b[0m\u001b[0mchdir\u001b[0m\u001b[1;33m(\u001b[0m\u001b[1;34m\"-- Your directory path here---\"\u001b[0m\u001b[1;33m)\u001b[0m\u001b[1;33m\u001b[0m\u001b[1;33m\u001b[0m\u001b[0m\n\u001b[0m\u001b[0;32m     10\u001b[0m \u001b[0mprint\u001b[0m\u001b[1;33m(\u001b[0m\u001b[0mos\u001b[0m\u001b[1;33m.\u001b[0m\u001b[0mgetcwd\u001b[0m\u001b[1;33m(\u001b[0m\u001b[1;33m)\u001b[0m\u001b[1;33m)\u001b[0m\u001b[1;33m\u001b[0m\u001b[1;33m\u001b[0m\u001b[0m\n",
      "\u001b[1;31mFileNotFoundError\u001b[0m: [WinError 2] The system cannot find the file specified: '-- Your directory path here---'"
     ]
    }
   ],
   "source": [
    "## Loading libraries \n",
    "import pandas as pd\n",
    "import numpy as np\n",
    "import os\n",
    "import re\n",
    "\n",
    "\n",
    "## Setting the working directory\n",
    "os.chdir(\"-- Your directory path here---\")\n",
    "print(os.getcwd())"
   ]
  },
  {
   "cell_type": "markdown",
   "metadata": {},
   "source": [
    "##  Steps:"
   ]
  },
  {
   "cell_type": "markdown",
   "metadata": {},
   "source": [
    "1. Gather credit card transactions(CCT) in a csv file\n",
    "2. Create a store directory for categorizing transactions\n",
    "3. Match transactions to a category by matching with store directory\n",
    "4. Obtain weather information for the region each day\n",
    "5. Structure the CCT data for modeling\n",
    "6. Create a model to predict likelihood of going grocery shopping"
   ]
  },
  {
   "cell_type": "markdown",
   "metadata": {},
   "source": [
    "### Step 1"
   ]
  },
  {
   "cell_type": "code",
   "execution_count": 2,
   "metadata": {},
   "outputs": [
    {
     "data": {
      "text/plain": [
       "(761, 7)"
      ]
     },
     "execution_count": 2,
     "metadata": {},
     "output_type": "execute_result"
    }
   ],
   "source": [
    "ccStatements = pd.read_csv(\"CompleteCCStatements.csv\", \n",
    "                           header=0, index_col=0)\n",
    "ccStatements.head()\n",
    "ccStatements.shape"
   ]
  },
  {
   "cell_type": "markdown",
   "metadata": {},
   "source": [
    "### Step 2"
   ]
  },
  {
   "cell_type": "markdown",
   "metadata": {},
   "source": [
    "A store directory has been created by scraping business lists from the web and adding on to it from a custom list of categories.\n",
    "\n",
    "file: Store Directory.csv"
   ]
  },
  {
   "cell_type": "code",
   "execution_count": 3,
   "metadata": {},
   "outputs": [
    {
     "name": "stdout",
     "output_type": "stream",
     "text": [
      "                                  StoreName StoreCategory\n",
      "1                          Fresh St. Market     Groceries\n",
      "2                                       IGA     Groceries\n",
      "3  MarketPlace IGA in British Columbia only     Groceries\n",
      "4                             Buy-Low Foods     Groceries\n",
      "5                              Budget Foods     Groceries\n",
      "(255, 2)\n"
     ]
    },
    {
     "data": {
      "text/plain": [
       "StoreName        object\n",
       "StoreCategory    object\n",
       "dtype: object"
      ]
     },
     "execution_count": 3,
     "metadata": {},
     "output_type": "execute_result"
    }
   ],
   "source": [
    "storeDirectory = pd.read_csv(\"Store directory.csv\", header=0, index_col=0)\n",
    "print(storeDirectory.head())\n",
    "print(storeDirectory.shape)\n",
    "storeDirectory.dtypes"
   ]
  },
  {
   "cell_type": "markdown",
   "metadata": {},
   "source": [
    "#### Manipulating the store directory to facilitate matching the transdactions to categories"
   ]
  },
  {
   "cell_type": "code",
   "execution_count": 4,
   "metadata": {},
   "outputs": [
    {
     "name": "stdout",
     "output_type": "stream",
     "text": [
      "                                             StoreName StoreCategory\n",
      "55       Foodland some CO-OP stores in Atlantic Canada     Groceries\n",
      "57   IGA Extra in Alberta, Manitoba, Quebec, some p...     Groceries\n",
      "141                                       Kmart Canada     Groceries\n",
      "163                                      Target Canada     Groceries\n",
      "171                                      Canadian Tire      Shopping\n",
      "188                           Real Canadian Superstore      Shopping\n",
      "204                            Canadian Tire Petroleum          Fuel\n",
      "211                                        Gulf Canada          Fuel\n",
      "220                                       Petro-Canada          Fuel\n",
      "223                                       Shell Canada          Fuel\n",
      "55            Foodland some CO-OP stores in Atlantic Can\n",
      "57     IGA Extra in Alberta, Manitoba, Quebec, some p...\n",
      "141                                            Kmart Can\n",
      "163                                           Target Can\n",
      "171                                             Cdn Tire\n",
      "188                                  Real Cdn Superstore\n",
      "204                                   Cdn Tire Petroleum\n",
      "211                                             Gulf Can\n",
      "220                                            Petro-Can\n",
      "223                                            Shell Can\n",
      "231                                            Can Goose\n",
      "251                                            Roots Can\n",
      "Name: StoreName, dtype: object\n"
     ]
    },
    {
     "name": "stderr",
     "output_type": "stream",
     "text": [
      "C:\\Users\\Nalina\\Anaconda2\\lib\\site-packages\\ipykernel_launcher.py:9: SettingWithCopyWarning: \n",
      "A value is trying to be set on a copy of a slice from a DataFrame.\n",
      "Try using .loc[row_indexer,col_indexer] = value instead\n",
      "\n",
      "See the caveats in the documentation: http://pandas.pydata.org/pandas-docs/stable/indexing.html#indexing-view-versus-copy\n",
      "  if __name__ == '__main__':\n"
     ]
    },
    {
     "data": {
      "text/plain": [
       "(267, 2)"
      ]
     },
     "execution_count": 4,
     "metadata": {},
     "output_type": "execute_result"
    }
   ],
   "source": [
    "## 1. Some stores have 'Canada' and 'Canadian' in their names and may be shortened to 'Can' or 'Cdn' in the credit card statements\n",
    "\n",
    "# Create a subset of the store directoy that satisfies the above condition\n",
    "temp_df = storeDirectory[storeDirectory.StoreName.str.contains('Canada') | storeDirectory.StoreName.str.contains('Canadian')]\n",
    "print(temp_df.head(10))\n",
    "# Creating necessary replacements\n",
    "# using regex=T because a part of the string is being replaced\n",
    "temp_df['StoreName'] = temp_df['StoreName'].replace({'Canada':'Can',\n",
    "                                                     'Canadian':'Cdn'}, regex=True) \n",
    "print(temp_df['StoreName'])\n",
    "\n",
    "# Appending the changed subset to the store directory file\n",
    "storeDirectory = storeDirectory.append(temp_df, ignore_index=True)\n",
    "storeDirectory.shape"
   ]
  },
  {
   "cell_type": "code",
   "execution_count": 5,
   "metadata": {},
   "outputs": [
    {
     "name": "stdout",
     "output_type": "stream",
     "text": [
      "                StoreName StoreCategory\n",
      "8            Shop n' Save     Groceries\n",
      "11  Nature�s Fare Markets     Groceries\n",
      "17  Atlantic Cash & Carry     Groceries\n",
      "22   Les Entrep�ts Presto     Groceries\n",
      "26          L'Intermarch�     Groceries\n",
      "32             Maxi & Cie     Groceries\n",
      "33        NG Cash & Carry     Groceries\n",
      "39      T & T Supermarket     Groceries\n",
      "42          Club Entrep�t     Groceries\n",
      "47          March� Adonis     Groceries\n",
      "(59, 2)\n",
      "                                             StoreName StoreCategory\n",
      "8                                          Shop n Save     Groceries\n",
      "11                                Natures Fare Markets     Groceries\n",
      "17                                Atlantic Cash  Carry     Groceries\n",
      "22                                 Les Entrepts Presto     Groceries\n",
      "26                                         LIntermarch     Groceries\n",
      "32                                           Maxi  Cie     Groceries\n",
      "33                                      NG Cash  Carry     Groceries\n",
      "39                                    T  T Supermarket     Groceries\n",
      "42                                        Club Entrept     Groceries\n",
      "47                                        March Adonis     Groceries\n",
      "48                                           March AMI     Groceries\n",
      "49                                         March Extra     Groceries\n",
      "50                                     March Richelieu     Groceries\n",
      "57                                     March Bonichoix     Groceries\n",
      "58                                     March Tradition     Groceries\n",
      "59                                        Rachelle-Bry     Groceries\n",
      "62                                     Petes Frootique     Groceries\n",
      "66                                        Askews Foods     Groceries\n",
      "68                                   Brunos Fine Foods     Groceries\n",
      "69                                            Colemans     Groceries\n",
      "70                                      Co-op Atlantic     Groceries\n",
      "74                                 Coppas Fresh Market     Groceries\n",
      "88                                         Goodness Me     Groceries\n",
      "94                 LM Markets (Hometown Grocers Co-op)     Groceries\n",
      "95                                    Lalumire Bonanza     Groceries\n",
      "96                                   Le March Esposito     Groceries\n",
      "97                                   Le March Vgtarien     Groceries\n",
      "99                                             Lococos     Groceries\n",
      "101                                    Marche Adonis 1     Groceries\n",
      "102                            Mike Dean Local Grocer2     Groceries\n",
      "104                                   Natures Emporium     Groceries\n",
      "116                                      Vinces Market     Groceries\n",
      "119                                          Pusateris     Groceries\n",
      "120                                     MM Food Market     Groceries\n",
      "121                                                 AP     Groceries\n",
      "124                             Commissos Food Markets     Groceries\n",
      "125                                      Coopers Foods     Groceries\n",
      "126                                           Darrigos     Groceries\n",
      "127                                          DiPietros     Groceries\n",
      "138             Hudsons Bay Company Grocery (Winnipeg)     Groceries\n",
      "146                                        March Frais     Groceries\n",
      "150     ND SuperMarkets (Windsor, had SH Green Stamps)     Groceries\n",
      "156                                         Red  White     Groceries\n",
      "160                            Steinbergs Supermarkets     Groceries\n",
      "164                                   Ultra Food  Drug     Groceries\n",
      "166                     Whites Supermarkets (Winnipeg)     Groceries\n",
      "167                              Woodwards Food Floors     Groceries\n",
      "175           Geoffreys Toy Box (revival of Toys R Us)      Shopping\n",
      "180                            The Hudsons Bay Company      Shopping\n",
      "183  Jean Coutu Group - pharmacy, grocery, general ...      Shopping\n",
      "(59, 2)\n",
      "(326, 2)\n"
     ]
    },
    {
     "name": "stderr",
     "output_type": "stream",
     "text": [
      "C:\\Users\\Nalina\\Anaconda2\\lib\\site-packages\\pandas\\core\\generic.py:3643: SettingWithCopyWarning: \n",
      "A value is trying to be set on a copy of a slice from a DataFrame.\n",
      "Try using .loc[row_indexer,col_indexer] = value instead\n",
      "\n",
      "See the caveats in the documentation: http://pandas.pydata.org/pandas-docs/stable/indexing.html#indexing-view-versus-copy\n",
      "  self[name] = value\n"
     ]
    }
   ],
   "source": [
    "## 2. Replacing special characters in store names to match categories better\n",
    "# Creating a subset of store names that have special characters \n",
    "temp_df = storeDirectory[storeDirectory.StoreName.str.contains(r'[^a-zA-Z\\d\\s\\,\\.\\#\\$\\-\\/()]+', regex=True)]\n",
    "print(temp_df.head(10))\n",
    "print(temp_df.shape)\n",
    "\n",
    "# Replacing the special characters\n",
    "temp_df.StoreName = temp_df.StoreName.replace(r\"[^a-zA-Z\\d\\s\\,\\.\\#\\$\\-\\/()]+\", \"\", regex=True)\n",
    "print(temp_df.head(50))\n",
    "print(temp_df.shape)\n",
    "\n",
    "# Append the modified subset to Store Directory\n",
    "storeDirectory = storeDirectory.append(temp_df, ignore_index=True)\n",
    "print(storeDirectory.shape)"
   ]
  },
  {
   "cell_type": "code",
   "execution_count": 6,
   "metadata": {},
   "outputs": [
    {
     "name": "stdout",
     "output_type": "stream",
     "text": [
      "   StoreName      StoreCategory\n",
      "0     Amazon  Shopping - Amazon\n",
      "1   Doordash         Restaurant\n",
      "2       AMZN  Shopping - Amazon\n",
      "3  Bulk Barn          Groceries\n",
      "4  Marshalls           Shopping\n",
      "5    Netflix      Entertainment\n",
      "6   Cineplex      Entertainment\n",
      "7     Disney      Entertainment\n",
      "8      Chatr              Phone\n",
      "9     COGECO           Internet\n",
      "StoreName        object\n",
      "StoreCategory    object\n",
      "dtype: object\n"
     ]
    },
    {
     "data": {
      "text/plain": [
       "(59, 2)"
      ]
     },
     "execution_count": 6,
     "metadata": {},
     "output_type": "execute_result"
    }
   ],
   "source": [
    "## 3. Reading a custom list of stores as a csv file and appending it to the store directory\n",
    "customList = pd.read_csv(\"Custom list of stores.csv\",header=0)\n",
    "print(customList.head(10))\n",
    "print(customList.dtypes)\n",
    "customList.shape"
   ]
  },
  {
   "cell_type": "code",
   "execution_count": 7,
   "metadata": {},
   "outputs": [
    {
     "name": "stdout",
     "output_type": "stream",
     "text": [
      "(385, 2)\n"
     ]
    }
   ],
   "source": [
    "# Append custom list of stores to store directory\n",
    "storeDirectory = storeDirectory.append(customList,ignore_index=True)\n",
    "print(storeDirectory.shape)"
   ]
  },
  {
   "cell_type": "code",
   "execution_count": 15,
   "metadata": {},
   "outputs": [
    {
     "name": "stdout",
     "output_type": "stream",
     "text": [
      "object\n",
      "(fortino|amazon|walmart|anjappar|marshalls|netflix|chatr|cogeco|gap|toys|children)\n",
      "1                                 annual fee\n",
      "2                          annual rebate fee\n",
      "3      wal-mart supercenter#1107waterdown on\n",
      "4     amzn mktp ca*mk0524rq0 www.amazon.caon\n",
      "5        fortinos (waterdown 20 waterdown on\n",
      "6         fortinos (main street) hamilton on\n",
      "7                    r m*wyse 289-3190885 on\n",
      "8     payment - thank you / paiement - merci\n",
      "9     canadiantire.ca/roadside 8887277478 on\n",
      "10            cogeco connexion burlington on\n",
      "Name: Description, dtype: object\n",
      "(258, 1)\n",
      "                 0\n",
      "   match          \n",
      "4  0        amazon\n",
      "5  0       fortino\n",
      "6  0       fortino\n",
      "10 0        cogeco\n",
      "13 0        amazon\n",
      "18 0        amazon\n",
      "   1        amazon\n",
      "19 0       fortino\n",
      "20 0      children\n",
      "23 0       fortino\n"
     ]
    }
   ],
   "source": [
    "## Test code for matching store names\n",
    "\n",
    "# storeString = pd.Series(['Fortino','Amazon','Walmart','Anjappar','Marshalls','Netflix','Chatr','Cogeco','Gap','Toys','Children'])\n",
    "# print(storeString.dtype)\n",
    "# storeString = storeString.str.lower()\n",
    "# patstring = '|'.join(storeString)\n",
    "# patstring = '(' + patstring + ')'\n",
    "# print(patstring)\n",
    "\n",
    "# ccStatements['Description'] = ccStatements['Description'].str.lower()\n",
    "# print(ccStatements['Description'].head(10))\n",
    "# extraction = ccStatements['Description'].str.extractall(patstring)\n",
    "\n",
    "# print(extraction.shape)\n",
    "# print(extraction.head(10))"
   ]
  },
  {
   "cell_type": "code",
   "execution_count": 8,
   "metadata": {},
   "outputs": [
    {
     "name": "stdout",
     "output_type": "stream",
     "text": [
      "                                            StoreName StoreCategory\n",
      "0                               Fresh\\s?St\\.\\s?Market     Groceries\n",
      "1                                                 IGA     Groceries\n",
      "2   MarketPlace\\s?IGA\\s?in\\s?British\\s?Columbia\\s?...     Groceries\n",
      "3                                    Buy\\-Low\\s?Foods     Groceries\n",
      "4                                      Budget\\s?Foods     Groceries\n",
      "5                                    Nesters\\s?Market     Groceries\n",
      "6                            Meinhardt\\s?Fine\\s?Foods     Groceries\n",
      "7                                     Quality\\s?Foods     Groceries\n",
      "8                                    Shop\\s?n'\\s?Save     Groceries\n",
      "9                                          AG\\s?Foods     Groceries\n",
      "10                                  Choices\\s?Markets     Groceries\n",
      "11                           Natures\\s?Fare\\s?Markets     Groceries\n",
      "12                          Overwaitea\\s?Food\\s?Group     Groceries\n",
      "13                       Bulkley\\s?Valley\\s?Wholesale     Groceries\n",
      "14                                 PriceSmart\\s?Foods     Groceries\n",
      "15                                    Save\\-On\\-Foods     Groceries\n",
      "16                                       Urban\\s?Fare     Groceries\n",
      "17                       Atlantic\\s?Cash\\s?\\&\\s?Carry     Groceries\n",
      "18                              Atlantic\\s?Superstore     Groceries\n",
      "19                                               Axep     Groceries\n",
      "20                            Bloor\\s?Street\\s?Market     Groceries\n",
      "21                                           Dominion     Groceries\n",
      "22                            Les\\s?Entrepts\\s?Presto     Groceries\n",
      "23                                      Extra\\s?Foods     Groceries\n",
      "24                                           Fortinos     Groceries\n",
      "25                                          Freshmart     Groceries\n",
      "26                                       L'Intermarch     Groceries\n",
      "27                                            Loblaws     Groceries\n",
      "28                                 Loblaw\\s?GreatFood     Groceries\n",
      "29                               Loblaws\\s?CityMarket     Groceries\n",
      "30                             Lucky\\s?Dollar\\s?Foods     Groceries\n",
      "31                                               Maxi     Groceries\n",
      "32                                    Maxi\\s?\\&\\s?Cie     Groceries\n",
      "33                             NG\\s?Cash\\s?\\&\\s?Carry     Groceries\n",
      "34                                        No\\s?Frills     Groceries\n",
      "35                                            Provigo     Groceries\n",
      "36                                Shop\\s?Easy\\s?Foods     Groceries\n",
      "37                                         Pharmaprix     Groceries\n",
      "38                                          SuperValu     Groceries\n",
      "39                           T\\s?\\&\\s?T\\s?Supermarket     Groceries\n",
      "40                                         Valu\\-mart     Groceries\n",
      "41                                   Wholesale\\s?Club     Groceries\n",
      "42                                     Club\\s?Entrept     Groceries\n",
      "43                        Your\\s?Independent\\s?Grocer     Groceries\n",
      "44                           Independent\\s?CityMarket     Groceries\n",
      "45                                    Zehrs\\s?Markets     Groceries\n",
      "46                                  Les\\s?5\\s?Saisons     Groceries\n",
      "47                                     March\\s?Adonis     Groceries\n",
      "48                                        March\\s?AMI     Groceries\n",
      "49                                      March\\s?Extra     Groceries\n"
     ]
    }
   ],
   "source": [
    "## 4. Removing speacial characters in Store names and marking escape sequences to facilitate pattern matching\n",
    "# # trial on temp_df before running on store directory\n",
    "# temp_df = storeDirectory[storeDirectory.StoreName.str.contains(r\"[^a-zA-Z\\d\\s\\,\\.\\-\\/&()\\*\\'\\!]+\", regex=True)]\n",
    "# print(temp_df.head(50))\n",
    "# temp_df.shape\n",
    "# temp_df.StoreName = temp_df.StoreName.replace(r\"[^a-zA-Z\\d\\s\\,\\.\\-\\/&()\\*\\'\\!]+\", \"\", regex=True)\n",
    "# print(temp_df.head(50))\n",
    "\n",
    "storeDirectory.StoreName = storeDirectory.StoreName.replace(r\"[^a-zA-Z\\d\\s\\,\\.\\-\\/&()\\*\\'\\!]+\", \"\", regex=True)\n",
    "\n",
    "\n",
    "## replace with escape sequences for , . * ? ( ) ! ' \" - &\n",
    "storeDirectory.StoreName = storeDirectory.StoreName.replace(r\"[\\,]+\", \"\\,\", regex=True)\n",
    "storeDirectory.StoreName = storeDirectory.StoreName.replace(r\"[\\.]+\", \"\\.\", regex=True)\n",
    "storeDirectory.StoreName = storeDirectory.StoreName.replace(r\"[\\*]+\", \"\\*\", regex=True)\n",
    "storeDirectory.StoreName = storeDirectory.StoreName.replace(r\"[\\?]+\", \"\\?\", regex=True)\n",
    "storeDirectory.StoreName = storeDirectory.StoreName.replace(r\"[\\(]+\", \"\\(\", regex=True)\n",
    "storeDirectory.StoreName = storeDirectory.StoreName.replace(r\"[\\)]+\", \"\\)\", regex=True)\n",
    "storeDirectory.StoreName = storeDirectory.StoreName.replace(r\"[\\!]+\", \"\\!\", regex=True)\n",
    "storeDirectory.StoreName = storeDirectory.StoreName.replace(r\"[\\']+\", \"\\'\", regex=True)\n",
    "storeDirectory.StoreName = storeDirectory.StoreName.replace(r\"[\\-]+\", \"\\-\", regex=True)\n",
    "storeDirectory.StoreName = storeDirectory.StoreName.replace(r\"[\\&]+\", \"\\&\", regex=True)\n",
    "storeDirectory.StoreName = storeDirectory.StoreName.replace(r\"[\\s]+\", \"\\s?\", regex=True)\n",
    "#storeDirectory.StoreName = storeDirectory.StoreName.replace(r'[\\\"]+', '\\\"', regex=True)\n",
    "\n",
    "print(storeDirectory.head(50))"
   ]
  },
  {
   "cell_type": "markdown",
   "metadata": {},
   "source": [
    "### Step 3"
   ]
  },
  {
   "cell_type": "markdown",
   "metadata": {},
   "source": [
    "Matching transactions to category."
   ]
  },
  {
   "cell_type": "code",
   "execution_count": 9,
   "metadata": {},
   "outputs": [
    {
     "name": "stdout",
     "output_type": "stream",
     "text": [
      "(fresh\\s?st\\.\\s?market|iga|marketplace\\s?iga\\s?in\\s?british\\s?columbia\\s?only|buy\\-low\\s?foods|budget\\s?foods|nesters\\s?market|meinhardt\\s?fine\\s?foods|quality\\s?foods|shop\\s?n'\\s?save|ag\\s?foods|choices\\s?markets|natures\\s?fare\\s?markets|overwaitea\\s?food\\s?group|bulkley\\s?valley\\s?wholesale|pricesmart\\s?foods|save\\-on\\-foods|urban\\s?fare|atlantic\\s?cash\\s?\\&\\s?carry|atlantic\\s?superstore|axep|bloor\\s?street\\s?market|dominion|les\\s?entrepts\\s?presto|extra\\s?foods|fortinos|freshmart|l'intermarch|loblaws|loblaw\\s?greatfood|loblaws\\s?citymarket|lucky\\s?dollar\\s?foods|maxi|maxi\\s?\\&\\s?cie|ng\\s?cash\\s?\\&\\s?carry|no\\s?frills|provigo|shop\\s?easy\\s?foods|pharmaprix|supervalu|t\\s?\\&\\s?t\\s?supermarket|valu\\-mart|wholesale\\s?club|club\\s?entrept|your\\s?independent\\s?grocer|independent\\s?citymarket|zehrs\\s?markets|les\\s?5\\s?saisons|march\\s?adonis|march\\s?ami|march\\s?extra|march\\s?richelieu|super\\s?c|lawtons|needs\\s?convenience|foodland\\s?some\\s?co\\-op\\s?stores\\s?in\\s?atlantic\\s?canada|freshco|iga\\s?extra\\s?in\\s?alberta\\,\\s?manitoba\\,\\s?quebec\\,\\s?some\\s?parts\\s?of\\s?atlantic\\s?canada\\s?formerly\\s?co\\-op\\s?atlantic\\s?and\\s?saskatchewan\\s?only|march\\s?bonichoix|march\\s?tradition|rachelle\\-bry|safeway|thrifty\\s?foods|pete's\\s?frootique|farm\\s?boy|49th\\s?parallel\\s?grocery|asian\\s?food\\s?centre|askew's\\s?foods|avril\\s?\\(health\\s?supermarket\\)|brunos\\s?fine\\s?foods|coleman's|co\\-op\\s?atlantic|co\\-op\\s?atlantic|valu\\s?foods|village\\s?food\\s?stores|coppa's\\s?fresh\\s?market|country\\s?grocer|fairway\\s?markets|family\\s?foods|calgary\\s?co\\-op|heritage\\s?co\\-op\\s?\\(western\\s?manitoba\\)|north\\s?central\\s?co\\-op|red\\s?river\\s?co\\-op|saskatoon\\s?co\\-op|foodex|foodfare|fresh\\s?city\\s?market|freson\\s?bros\\.|galleria\\s?supermarkets|goodness\\s?me\\!|grande\\s?cheese|h\\s?mart|highland\\s?farms|kim\\s?phat|le\\s?jardin\\s?mobile|l\\&m\\s?markets\\s?\\(hometown\\s?grocers\\s?co\\-op\\)|lalumire\\s?bonanza|le\\s?march\\s?esposito|le\\s?march\\s?vgtarien|les\\s?arpents\\s?verts|lococo's|lucky\\s?supermarket|marche\\s?adonis\\s?1|mike\\s?dean\\s?local\\s?grocer2|nations\\s?fresh\\s?food|nature's\\s?emporium|the\\s?north\\s?west\\s?company|northern|northmart|organic\\s?garage|panchvati\\s?supermarket|p\\.a\\.t\\.\\s?mart|planet\\s?organic|pomme\\s?natural\\s?market|rabba\\s?fine\\s?foods|sunterra\\s?market|taiko\\s?supermarket|vince's\\s?market|jean\\s?coutu\\s?group|whole\\s?foods\\s?market|pusateri's|m\\&m\\s?food\\s?market|a\\&p|best\\s?for\\s?less|the\\s?barn\\s?fruit\\s?markets|commisso's\\s?food\\s?markets|cooper's\\s?foods|darrigo's|dipietro's|dominion\\s?stores|dutch\\s?boy|eatons\\s?supermarket\\s?\\(winnipeg\\)|econo\\-mart|food\\s?barn\\s?\\(manitoba\\)|food\\s?city|food\\s?for\\s?less\\s?\\(calgary\\)|galati\\s?brothers|garden\\s?market\\s?iga|gordons|hudson's\\s?bay\\s?company\\s?grocery\\s?\\(winnipeg\\)|kauffmans\\s?\\(winnipeg\\)|kmart\\s?canada|knechtel\\s?foods|knob\\s?hill\\s?farms|lady\\s?york|loeb|lofood|march\\s?frais|miracle\\s?food\\s?mart|montemurro\\s?\\(north\\-western\\s?quebec\\s?and\\s?north\\-eastern\\s?ontario\\)|mr\\.\\s?grocer|n\\&d\\s?supermarkets\\s?\\(windsor\\,\\s?had\\s?s\\&h\\s?green\\s?stamps\\)|ok\\s?economy|overwaitea\\s?foods|penner\\s?foods\\s?\\(manitoba\\)|piggly\\-wiggly|price\\s?chopper|red\\s?\\&\\s?white|red\\s?rooster|sav\\-a\\-centre|saveeasy|steinberg's\\s?supermarkets|super\\s?centre|target\\s?canada|tomboy\\s?\\(manitoba\\,\\s?sask\\.\\s?and\\s?alberta\\)|ultra\\s?food\\s?\\&\\s?drug|valdi|white's\\s?supermarkets\\s?\\(winnipeg\\)|woodward's\\s?food\\s?floors|best\\s?buy|the\\s?brick|canadian\\s?tire|chapters|costco|dollarama|food\\s?basics|geoffrey's\\s?toy\\s?box\\s?\\(revival\\s?of\\s?toys\\s?r\\s?us\\)|giant\\s?tiger|the\\s?home\\s?depot|home\\s?outfitters|homesense|the\\s?hudson's\\s?bay\\s?company|ikea|indigo\\s?books\\s?and\\s?music|jean\\s?coutu\\s?group\\s?\\-\\s?pharmacy\\,\\s?grocery\\,\\s?general\\s?merchandise\\s?located\\s?in\\s?eastern\\s?ontario\\s?and\\s?quebec|new\\s?brunswick|jysk|la\\-z\\-boy|real\\s?canadian\\s?superstore|mastermind\\s?toys|metro|penningtons|petsmart|rona|sobeys|sport\\s?chek|staples|toys\\s?r\\s?us|babies\\s?r\\s?us|walmart|winners|lawtons\\s?drugs|shoppers\\s?drug\\s?mart|london\\s?drugs|canadian\\s?tire\\s?petroleum|chevron\\s?corporation|domo\\s?gasoline|esso|federated\\s?co\\-operatives|fifth\\s?wheel\\s?truck\\s?stops|fj\\s?management|gulf\\s?canada|husky\\s?energy|imperial\\s?oil|irving\\s?oil|joy\\s?gas\\s?stations|mohawk\\s?oil|nuns'\\s?island\\s?gas\\s?station|olco\\s?petroleum\\s?group|parkland\\s?fuel|petro\\-canada|pioneer\\s?energy|sergaz|shell\\s?canada|suncor\\s?energy|supertest\\s?petroleum|ultramar|wilson\\s?fuel|addition\\s?elle|aritzia|beyond\\s?the\\s?rack|canada\\s?goose|club\\s?monaco|garage|harry\\s?rosen\\s?inc\\.|holt\\s?renfrew|hudson's\\s?bay|joe\\s?fresh|la\\s?senza|laura|la\\s?maison\\s?simons|le\\s?chteau|lululemon|mark's|megamart|moores|nygrd\\s?international|oakfort|october's\\s?very\\s?own|penningtons|reitmans|roots\\s?canada|tip\\s?top\\s?tailors|urban\\s?behavior|west\\s?49|frank\\s?and\\s?oak|foodland\\s?some\\s?co\\-op\\s?stores\\s?in\\s?atlantic\\s?can|iga\\s?extra\\s?in\\s?alberta\\,\\s?manitoba\\,\\s?quebec\\,\\s?some\\s?parts\\s?of\\s?atlantic\\s?can\\s?formerly\\s?co\\-op\\s?atlantic\\s?and\\s?saskatchewan\\s?only|kmart\\s?can|target\\s?can|cdn\\s?tire|real\\s?cdn\\s?superstore|cdn\\s?tire\\s?petroleum|gulf\\s?can|petro\\-can|shell\\s?can|can\\s?goose|roots\\s?can|shop\\s?n\\s?save|natures\\s?fare\\s?markets|atlantic\\s?cash\\s?carry|les\\s?entrepts\\s?presto|lintermarch|maxi\\s?cie|ng\\s?cash\\s?carry|t\\s?t\\s?supermarket|club\\s?entrept|march\\s?adonis|march\\s?ami|march\\s?extra|march\\s?richelieu|march\\s?bonichoix|march\\s?tradition|rachelle\\-bry|petes\\s?frootique|askews\\s?foods|brunos\\s?fine\\s?foods|colemans|co\\-op\\s?atlantic|coppas\\s?fresh\\s?market|goodness\\s?me|lm\\s?markets\\s?\\(hometown\\s?grocers\\s?co\\-op\\)|lalumire\\s?bonanza|le\\s?march\\s?esposito|le\\s?march\\s?vgtarien|lococos|marche\\s?adonis\\s?1|mike\\s?dean\\s?local\\s?grocer2|natures\\s?emporium|vinces\\s?market|pusateris|mm\\s?food\\s?market|ap|commissos\\s?food\\s?markets|coopers\\s?foods|darrigos|dipietros|hudsons\\s?bay\\s?company\\s?grocery\\s?\\(winnipeg\\)|march\\s?frais|nd\\s?supermarkets\\s?\\(windsor\\,\\s?had\\s?sh\\s?green\\s?stamps\\)|red\\s?white|steinbergs\\s?supermarkets|ultra\\s?food\\s?drug|whites\\s?supermarkets\\s?\\(winnipeg\\)|woodwards\\s?food\\s?floors|geoffreys\\s?toy\\s?box\\s?\\(revival\\s?of\\s?toys\\s?r\\s?us\\)|the\\s?hudsons\\s?bay\\s?company|jean\\s?coutu\\s?group\\s?\\-\\s?pharmacy\\,\\s?grocery\\,\\s?general\\s?merchandise\\s?located\\s?in\\s?eastern\\s?ontario\\s?and\\s?quebec|toys\\s?r\\s?us|babies\\s?r\\s?us|nuns\\s?island\\s?gas\\s?station|hudsons\\s?bay|le\\s?chteau|marks|nygrd\\s?international|oakfort|octobers\\s?very\\s?own|amazon|doordash|amzn|bulk\\s?barn|marshalls|netflix|cineplex|disney|chatr|cogeco|wyse|wal\\-mart|walmart|amazon\\.ca\\s?prime\\s?member|tim\\s?hortons|mcdonalds|pizza|pita\\s?pit|wingery|royal\\s?spice|dyments\\s?farm|sensational\\s?samosa|red\\s?lobster|starbucks|skipthedishes|bombay\\s?spices|dental|dentist|insurance|payroll\\s?deposit|special\\s?deposit|copper\\s?kettle|wal\\*mart|supercuts|sephora|payment|fee|indian\\s?grocers|leela\\s?supermarket|anjappar|gap|children's\\s?place|fortinos's|kaveri\\s?supermarket|supermarkets|grocers|groceries|saravana\\s?bhavan|old\\s?navy|american\\s?eagle|payback\\s?with\\s?points|popeyes|cowangroup|uber\\s?\\*\\s?eats|thirsty\\s?cactus|pho\\s?nam|pom\\s?pom|salon|kingscrt)\n",
      "(575, 1)\n",
      "           StoreName\n",
      "1                fee\n",
      "2                fee\n",
      "3   wal-mart, superc\n",
      "4       amzn, amazon\n",
      "5           fortinos\n",
      "6           fortinos\n",
      "7               wyse\n",
      "8            payment\n",
      "9       canadiantire\n",
      "10            cogeco\n"
     ]
    }
   ],
   "source": [
    "storeDirectory.StoreName = storeDirectory.StoreName.str.lower()\n",
    "ccStatements['Description'] = ccStatements['Description'].str.lower()\n",
    "patstring = '|'.join(storeDirectory.StoreName)\n",
    "patstring = '(' + patstring + ')'\n",
    "print(patstring)\n",
    "\n",
    "# extraction = (ccStatements['Description'].str.extractall(patstring)\n",
    "#               .drop_duplicates()\n",
    "#               .rename(columns={0: 'StoreName'}))\n",
    "\n",
    "extraction = (ccStatements['Description'].str.extractall(patstring)\n",
    "              .groupby(level=0)\n",
    "              .agg(', '.join)\n",
    "              .rename(columns={0: 'StoreName'}))\n",
    "\n",
    "print(extraction.shape)\n",
    "print(extraction.head(10))\n",
    "#extraction.to_csv(\"Extraction_matches.csv\",header=True)"
   ]
  },
  {
   "cell_type": "code",
   "execution_count": 10,
   "metadata": {},
   "outputs": [
    {
     "name": "stdout",
     "output_type": "stream",
     "text": [
      "(761, 8)\n",
      "   Transaction Date Posting Date                             Description  \\\n",
      "1             1-Feb        3-Feb                              annual fee   \n",
      "2             3-Feb        3-Feb                       annual rebate fee   \n",
      "3            11-Oct       15-Oct   wal-mart supercenter#1107waterdown on   \n",
      "4            15-Oct       15-Oct  amzn mktp ca*mk0524rq0 www.amazon.caon   \n",
      "5            16-Oct       19-Oct     fortinos (waterdown 20 waterdown on   \n",
      "6            16-Oct       19-Oct      fortinos (main street) hamilton on   \n",
      "7            17-Oct       19-Oct                 r m*wyse 289-3190885 on   \n",
      "8            17-Oct       19-Oct  payment - thank you / paiement - merci   \n",
      "9            17-Oct       19-Oct  canadiantire.ca/roadside 8887277478 on   \n",
      "10           20-Oct       21-Oct          cogeco connexion burlington on   \n",
      "\n",
      "    Amount             Category Month  Year         StoreName  \n",
      "1       39          Banking fee   Feb  2020               fee  \n",
      "2      -39          Banking fee   Feb  2020               fee  \n",
      "3    31.69             Shopping   Oct  2020  wal-mart, superc  \n",
      "4    60.81    Shopping - Amazon   Oct  2020      amzn, amazon  \n",
      "5    17.68            Groceries   Oct  2020          fortinos  \n",
      "6    18.31            Groceries   Oct  2020          fortinos  \n",
      "7     35.3          Electricity   Oct  2020              wyse  \n",
      "8     -733  Credit card payment   Oct  2020           payment  \n",
      "9   112.94             Shopping   Oct  2020      canadiantire  \n",
      "10   96.04             Internet   Oct  2020            cogeco  \n"
     ]
    }
   ],
   "source": [
    "# Add Category column from store directory df to extract df\n",
    "ccStatements_matched = pd.concat([ccStatements,extraction], axis=1)\n",
    "#.reset_index(drop=True)\n",
    "print(ccStatements_matched.shape)\n",
    "print(ccStatements_matched.head(10))\n",
    "\n",
    "# ccStatements_matched.to_csv(\"CC Statements Matched.csv\",header=True)"
   ]
  },
  {
   "cell_type": "code",
   "execution_count": 25,
   "metadata": {},
   "outputs": [
    {
     "name": "stdout",
     "output_type": "stream",
     "text": [
      "(761L,)\n",
      "(761, 3)\n",
      "            Match1   Match2 Match3\n",
      "1              fee     None   None\n",
      "2              fee     None   None\n",
      "3         wal-mart   superc   None\n",
      "4             amzn   amazon   None\n",
      "5         fortinos     None   None\n",
      "6         fortinos     None   None\n",
      "7             wyse     None   None\n",
      "8          payment     None   None\n",
      "9     canadiantire     None   None\n",
      "10          cogeco     None   None\n",
      "11       no frills     None   None\n",
      "12             NaN      NaN    NaN\n",
      "13            amzn   amazon   None\n",
      "14     tim hortons     None   None\n",
      "15  indian grocers     None   None\n",
      "16         wingery     None   None\n",
      "17        wal-mart   superc   None\n",
      "18          amazon   amazon   None\n",
      "19        fortinos     None   None\n",
      "20             NaN      NaN    NaN\n",
      "(762, 5)\n",
      "              Match1   Match2 Match3         StoreName        StoreCategory\n",
      "0                fee     None   None               fee          Banking fee\n",
      "1                fee     None   None               fee          Banking fee\n",
      "2          wal\\-mart   superc   None         wal\\-mart     Shopping-Walmart\n",
      "3               amzn   amazon   None              amzn    Shopping - Amazon\n",
      "4           fortinos     None   None          fortinos            Groceries\n",
      "5           fortinos     None   None          fortinos            Groceries\n",
      "6               wyse     None   None              wyse          Electricity\n",
      "7            payment     None   None           payment  Credit card payment\n",
      "8       canadiantire     None   None               NaN                  NaN\n",
      "9             cogeco     None   None            cogeco             Internet\n",
      "10       no\\s?frills     None   None       no\\s?frills            Groceries\n",
      "11               NaN      NaN    NaN               NaN                  NaN\n",
      "12              amzn   amazon   None              amzn    Shopping - Amazon\n",
      "13     tim\\s?hortons     None   None     tim\\s?hortons               Coffee\n",
      "14  indian\\s?grocers     None   None  indian\\s?grocers            Groceries\n",
      "15           wingery     None   None           wingery           Restaurant\n",
      "16         wal\\-mart   superc   None         wal\\-mart     Shopping-Walmart\n",
      "17            amazon   amazon   None            amazon    Shopping - Amazon\n",
      "18          fortinos     None   None          fortinos            Groceries\n",
      "19               NaN      NaN    NaN               NaN                  NaN\n",
      "20               NaN      NaN    NaN               NaN                  NaN\n",
      "21               NaN      NaN    NaN               NaN                  NaN\n",
      "22          fortinos     None   None          fortinos            Groceries\n",
      "23               NaN      NaN    NaN               NaN                  NaN\n",
      "24           payment     None   None           payment  Credit card payment\n",
      "25   copper\\s?kettle     None   None   copper\\s?kettle           Restaurant\n",
      "26               NaN      NaN    NaN               NaN                  NaN\n",
      "27          fortinos     None   None          fortinos            Groceries\n",
      "28              amzn   amazon   None              amzn    Shopping - Amazon\n",
      "29          fortinos     None   None          fortinos            Groceries\n",
      "\n",
      "\n",
      "Non missing counts in this df:\n",
      "Match1           576\n",
      "Match2            89\n",
      "Match3             1\n",
      "StoreName        549\n",
      "StoreCategory    549\n",
      "dtype: int64\n",
      "(762, 1)\n",
      "(762, 8)\n",
      "   Transaction Date Posting Date                             Description  \\\n",
      "0               NaN          NaN                                     NaN   \n",
      "1             1-Feb        3-Feb                              annual fee   \n",
      "2             3-Feb        3-Feb                       annual rebate fee   \n",
      "3            11-Oct       15-Oct   wal-mart supercenter#1107waterdown on   \n",
      "4            15-Oct       15-Oct  amzn mktp ca*mk0524rq0 www.amazon.caon   \n",
      "5            16-Oct       19-Oct     fortinos (waterdown 20 waterdown on   \n",
      "6            16-Oct       19-Oct      fortinos (main street) hamilton on   \n",
      "7            17-Oct       19-Oct                 r m*wyse 289-3190885 on   \n",
      "8            17-Oct       19-Oct  payment - thank you / paiement - merci   \n",
      "9            17-Oct       19-Oct  canadiantire.ca/roadside 8887277478 on   \n",
      "10           20-Oct       21-Oct          cogeco connexion burlington on   \n",
      "11           21-Oct       22-Oct      eric's no frills 3114 waterdown on   \n",
      "12           21-Oct       23-Oct     mto rus - so waterdown waterdown on   \n",
      "13           22-Oct       22-Oct  amzn mktp ca*2t2x58q41 www.amazon.caon   \n",
      "14           22-Oct       23-Oct               tim hortons #38 dundas on   \n",
      "15           23-Oct       26-Oct            indian grocers burlington on   \n",
      "16           23-Oct       26-Oct    the wingery - burlingt burlington on   \n",
      "17           24-Oct       27-Oct   wal-mart supercenter#1107waterdown on   \n",
      "18           24-Oct       26-Oct  amazon.ca prime member amazon.ca/pribc   \n",
      "19           26-Oct       27-Oct      fortinos (main street) hamilton on   \n",
      "20           26-Oct       28-Oct      the childrens place mississauga on   \n",
      "21           28-Oct       29-Oct               pioneer stn #19 dundas on   \n",
      "22           28-Oct       29-Oct      eddie bauer canada #91 hamilton on   \n",
      "23           29-Oct       30-Oct      fortinos (main street) hamilton on   \n",
      "24           30-Oct        2-Nov      dhl express adc qc 905-861-3540 on   \n",
      "25           30-Oct       30-Oct  payment - thank you / paiement - merci   \n",
      "26           31-Oct        2-Nov         copper kettle cafe waterdown on   \n",
      "27           31-Oct        2-Nov                 indian hut waterdown on   \n",
      "28            1-Nov        2-Nov      fortinos (main street) hamilton on   \n",
      "29            2-Nov        3-Nov  amzn mktp ca*2833p51z0 www.amazon.caon   \n",
      "30            3-Nov        4-Nov                    fortinos hamilton on   \n",
      "31            3-Nov        4-Nov     supercuts salon #57022 waterdown on   \n",
      "32            3-Nov        3-Nov        amazon.ca*287pz0vy1 amazon.ca on   \n",
      "33            6-Nov        9-Nov     fortinos (waterdown 20 waterdown on   \n",
      "34            7-Nov        9-Nov           ikea burlington burlington on   \n",
      "35            7-Nov        9-Nov      wal*mart canada inc mississauga on   \n",
      "36            8-Nov        9-Nov  amzn mktp ca*281z16bf2 www.amazon.caon   \n",
      "37            8-Nov        9-Nov            vesta *chatr 888-278-5588 bc   \n",
      "38           10-Nov       12-Nov     fortinos (waterdown 20 waterdown on   \n",
      "39           10-Nov       12-Nov   shoppers drug mart #1054 waterdown on   \n",
      "40           12-Nov       16-Nov   wal-mart supercenter#1107waterdown on   \n",
      "41           13-Nov       16-Nov             netflix.com 866-716-0414 on   \n",
      "42           13-Nov       16-Nov            vesta *chatr 888-278-5588 bc   \n",
      "43           14-Nov       16-Nov  payment - thank you / paiement - merci   \n",
      "44           15-Nov       16-Nov  amzn mktp ca*204es9a11 www.amazon.caon   \n",
      "45           17-Nov       18-Nov     fortinos (waterdown 20 waterdown on   \n",
      "46           17-Nov       18-Nov   shoppers drug mart #1054 waterdown on   \n",
      "47           20-Nov       20-Nov  doordash*bangkok spoon downtown toroon   \n",
      "48           20-Nov       23-Nov                 r m*wyse 289-3190885 on   \n",
      "49           20-Nov       23-Nov         cogeco connexion 905-3335343 on   \n",
      "\n",
      "     Amount               Category Month    Year          StoreCategory  \n",
      "0       NaN                    NaN   NaN     NaN            Banking fee  \n",
      "1        39            Banking fee   Feb  2020.0            Banking fee  \n",
      "2       -39            Banking fee   Feb  2020.0       Shopping-Walmart  \n",
      "3     31.69               Shopping   Oct  2020.0      Shopping - Amazon  \n",
      "4     60.81      Shopping - Amazon   Oct  2020.0              Groceries  \n",
      "5     17.68              Groceries   Oct  2020.0              Groceries  \n",
      "6     18.31              Groceries   Oct  2020.0            Electricity  \n",
      "7      35.3            Electricity   Oct  2020.0    Credit card payment  \n",
      "8      -733    Credit card payment   Oct  2020.0                    NaN  \n",
      "9    112.94               Shopping   Oct  2020.0               Internet  \n",
      "10    96.04               Internet   Oct  2020.0              Groceries  \n",
      "11    41.36              Groceries   Oct  2020.0                    NaN  \n",
      "12       35                    NaN   Oct  2020.0      Shopping - Amazon  \n",
      "13    76.69      Shopping - Amazon   Oct  2020.0                 Coffee  \n",
      "14     3.75                 Coffee   Oct  2020.0              Groceries  \n",
      "15    28.54              Groceries   Oct  2020.0             Restaurant  \n",
      "16    12.41        Food - Take out   Oct  2020.0       Shopping-Walmart  \n",
      "17    81.47               Shopping   Oct  2020.0      Shopping - Amazon  \n",
      "18     9.03      Shopping - Amazon   Oct  2020.0              Groceries  \n",
      "19    69.15              Groceries   Oct  2020.0                    NaN  \n",
      "20    50.88               Clothing   Oct  2020.0                    NaN  \n",
      "21       25                   Fuel   Oct  2020.0                    NaN  \n",
      "22   216.28                    NaN   Oct  2020.0              Groceries  \n",
      "23    60.09              Groceries   Oct  2020.0                    NaN  \n",
      "24    18.64                    NaN   Oct  2020.0    Credit card payment  \n",
      "25  -689.26    Credit card payment   Oct  2020.0             Restaurant  \n",
      "26        7             Restaurant   Oct  2020.0                    NaN  \n",
      "27    23.45                    NaN   Oct  2020.0              Groceries  \n",
      "28    29.11              Groceries   Nov  2020.0      Shopping - Amazon  \n",
      "29    79.09      Shopping - Amazon   Nov  2020.0              Groceries  \n",
      "30    34.63              Groceries   Nov  2020.0                    NaN  \n",
      "31    34.31               Grooming   Nov  2020.0      Shopping - Amazon  \n",
      "32    32.21      Shopping - Amazon   Nov  2020.0              Groceries  \n",
      "33    82.54              Groceries   Nov  2020.0               Shopping  \n",
      "34    30.42               Shopping   Nov  2020.0                    NaN  \n",
      "35   -62.14                    NaN   Nov  2020.0      Shopping - Amazon  \n",
      "36    48.24      Shopping - Amazon   Nov  2020.0                  Phone  \n",
      "37    39.55                  Phone   Nov  2020.0              Groceries  \n",
      "38    62.36              Groceries   Nov  2020.0  Healthcare - Pharmacy  \n",
      "39    25.44  Healthcare - Pharmacy   Nov  2020.0       Shopping-Walmart  \n",
      "40   107.25               Shopping   Nov  2020.0          Entertainment  \n",
      "41    14.99          Entertainment   Nov  2020.0                  Phone  \n",
      "42    39.55                  Phone   Nov  2020.0    Credit card payment  \n",
      "43  -786.22    Credit card payment   Nov  2020.0      Shopping - Amazon  \n",
      "44     10.6      Shopping - Amazon   Nov  2020.0              Groceries  \n",
      "45    93.55              Groceries   Nov  2020.0  Healthcare - Pharmacy  \n",
      "46    15.46  Healthcare - Pharmacy   Nov  2020.0             Restaurant  \n",
      "47    37.29        Food - Take out   Nov  2020.0            Electricity  \n",
      "48    42.35            Electricity   Nov  2020.0               Internet  \n",
      "49    96.04               Internet   Nov  2020.0               Shopping  \n"
     ]
    }
   ],
   "source": [
    "matches = ccStatements_matched['StoreName']\n",
    "print(matches.shape)\n",
    "\n",
    "matches = matches.str.split(',',expand=True)\n",
    "print(matches.shape)\n",
    "\n",
    "matches = matches.rename({0:'Match1', 1:'Match2', 2:'Match3'}, axis=1)\n",
    "print(matches.head(20))\n",
    "\n",
    "storeDirectory['StoreName'] = storeDirectory['StoreName'].str.lower()\n",
    "storeDirectory['StoreName'] = storeDirectory['StoreName'].str.strip()\n",
    "\n",
    "# Matching store Category for Column 1\n",
    "matches.Match1 = matches.Match1.replace(r\"[\\-]+\", \"\\-\", regex=True)\n",
    "matches.Match1 = matches.Match1.replace(r\"[\\s]+\", \"\\s?\", regex=True)\n",
    "matches['Match1'] = matches['Match1'].str.lower()\n",
    "matches['Match1'] = matches['Match1'].str.strip()\n",
    "matches = pd.merge(matches,storeDirectory, \n",
    "                   left_on='Match1',\n",
    "                  right_on='StoreName',\n",
    "                  how=\"left\")\n",
    "print(matches.shape)\n",
    "print(matches.head(30))\n",
    "print(\"\\n\\nNon missing counts in this df:\")\n",
    "print(matches.count())\n",
    "\n",
    "matches = matches.drop(['Match1','Match2','Match3','StoreName'], axis=1)\n",
    "print(matches.shape)\n",
    "\n",
    "# Adding the column StoreCategory to the df ccStatements_matched\n",
    "ccStatements_matched1 = pd.concat([ccStatements,matches], axis=1)\n",
    "print(ccStatements_matched1.shape)\n",
    "print(ccStatements_matched1.head(50))\n",
    "\n",
    "# # Exporting ccStatements_matched1 to csv\n",
    "# ccStatements_matched1.to_csv(\"CC statements macthed with storeCategory left.csv\",header=True)"
   ]
  }
 ],
 "metadata": {
  "kernelspec": {
   "display_name": "Python 3 (ipykernel)",
   "language": "python",
   "name": "python3"
  },
  "language_info": {
   "codemirror_mode": {
    "name": "ipython",
    "version": 3
   },
   "file_extension": ".py",
   "mimetype": "text/x-python",
   "name": "python",
   "nbconvert_exporter": "python",
   "pygments_lexer": "ipython3",
   "version": "3.8.12"
  },
  "toc": {
   "base_numbering": 1,
   "nav_menu": {},
   "number_sections": true,
   "sideBar": true,
   "skip_h1_title": false,
   "title_cell": "Table of Contents",
   "title_sidebar": "Contents",
   "toc_cell": false,
   "toc_position": {},
   "toc_section_display": true,
   "toc_window_display": false
  },
  "varInspector": {
   "cols": {
    "lenName": 16,
    "lenType": 16,
    "lenVar": 40
   },
   "kernels_config": {
    "python": {
     "delete_cmd_postfix": "",
     "delete_cmd_prefix": "del ",
     "library": "var_list.py",
     "varRefreshCmd": "print(var_dic_list())"
    },
    "r": {
     "delete_cmd_postfix": ") ",
     "delete_cmd_prefix": "rm(",
     "library": "var_list.r",
     "varRefreshCmd": "cat(var_dic_list()) "
    }
   },
   "types_to_exclude": [
    "module",
    "function",
    "builtin_function_or_method",
    "instance",
    "_Feature"
   ],
   "window_display": false
  }
 },
 "nbformat": 4,
 "nbformat_minor": 2
}
